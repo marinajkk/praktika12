{
 "cells": [
  {
   "cell_type": "code",
   "execution_count": null,
   "id": "67e1f5cf-376a-4878-8ed6-2566a344dc80",
   "metadata": {},
   "outputs": [],
   "source": [
    "arr = list()\n",
    "n = int(input(\"Enter number of elements\"))\n",
    "print(\"Enter elements\")\n",
    "i = 0\n",
    "while (i < n):\n",
    "tmp = int(input(\"\"))\n",
    "arr.append(tmp)\n",
    "i += 1\n",
    "print(\"Array\") \n",
    "#ffjhdhfjkdjk\n",
    "i = 0\n",
    "while (i < n):\n",
    "print(arr[i], end =\"\")\n",
    "i += 1\n",
    "print(\"\")"
   ]
  }
 ],
 "metadata": {
  "kernelspec": {
   "display_name": "Python 3 (ipykernel)",
   "language": "python",
   "name": "python3"
  },
  "language_info": {
   "codemirror_mode": {
    "name": "ipython",
    "version": 3
   },
   "file_extension": ".py",
   "mimetype": "text/x-python",
   "name": "python",
   "nbconvert_exporter": "python",
   "pygments_lexer": "ipython3",
   "version": "3.12.4"
  }
 },
 "nbformat": 4,
 "nbformat_minor": 5
}
